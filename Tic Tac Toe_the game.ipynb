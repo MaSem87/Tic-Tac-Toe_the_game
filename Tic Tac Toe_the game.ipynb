{
 "cells": [
  {
   "cell_type": "code",
   "execution_count": 1,
   "id": "ec7a3203",
   "metadata": {},
   "outputs": [],
   "source": [
    "# Set up a playing field as a list whose indices 1-9 correspond to the numbers on the number field. \n",
    "# So we get a 3 x 3 box."
   ]
  },
  {
   "cell_type": "code",
   "execution_count": 72,
   "id": "7afffe93",
   "metadata": {},
   "outputs": [],
   "source": [
    "from IPython.display import clear_output\n",
    "\n",
    "\n",
    "def show_playfield(playfield):\n",
    "    \"\"\" View the current playing field in the terminal. \"\"\"\n",
    "\n",
    "    clear_output()  # Remember: this only works in Jupyter\n",
    "    print(' ' + playfield[7] + ' | ' + playfield[8] + ' | ' + playfield[9])\n",
    "    print('-----------')\n",
    "    print(' ' + playfield[4] + ' | ' + playfield[5] + ' | ' + playfield[6])\n",
    "    print('-----------')\n",
    "    print(' ' + playfield[1] + ' | ' + playfield[2] + ' | ' + playfield[3])"
   ]
  },
  {
   "cell_type": "code",
   "execution_count": 73,
   "id": "a973b7b4",
   "metadata": {},
   "outputs": [
    {
     "name": "stdout",
     "output_type": "stream",
     "text": [
      " X | O | X\n",
      "-----------\n",
      " O | X | O\n",
      "-----------\n",
      " X | O | X\n"
     ]
    }
   ],
   "source": [
    "test_playfield = ['#', 'X', 'O', 'X', 'O', 'X', 'O', 'X', 'O', 'X']\n",
    "show_playfield(test_playfield)"
   ]
  },
  {
   "cell_type": "code",
   "execution_count": 74,
   "id": "bdcf9987",
   "metadata": {},
   "outputs": [],
   "source": [
    "# Write a function that takes player input to assign the marker 'X' or 'O' to the player. \n",
    "# Use a while loop to continue only when valid input is received."
   ]
  },
  {
   "cell_type": "code",
   "execution_count": 75,
   "id": "cb2728d2",
   "metadata": {},
   "outputs": [],
   "source": [
    "def player_input():\n",
    "    \"\"\" Expects the player to enter 'X' or 'O' and returns it. \"\"\"\n",
    "\n",
    "    marker = ''\n",
    "    \n",
    "    while not (marker == 'X' or marker == 'O'):\n",
    "        marker = input('Player 1: Do you want to be X or O?').upper()\n",
    "\n",
    "    if marker == 'X':\n",
    "        return ('X','O')\n",
    "    else:\n",
    "        return ('O','X')"
   ]
  },
  {
   "cell_type": "code",
   "execution_count": 76,
   "id": "0ae3effa",
   "metadata": {},
   "outputs": [
    {
     "name": "stdout",
     "output_type": "stream",
     "text": [
      "Player 1: Do you want to be X or O?\n",
      "Player 1: Do you want to be X or O?\n",
      "Player 1: Do you want to be X or O?\n",
      "Player 1: Do you want to be X or O?x\n"
     ]
    },
    {
     "data": {
      "text/plain": [
       "('X', 'O')"
      ]
     },
     "execution_count": 76,
     "metadata": {},
     "output_type": "execute_result"
    }
   ],
   "source": [
    "player_input()"
   ]
  },
  {
   "cell_type": "code",
   "execution_count": 77,
   "id": "04614406",
   "metadata": {},
   "outputs": [],
   "source": [
    "# Write a function that takes a marker ('X' or 'O') and a desired position (number 1-9) \n",
    "# from the playfield list and assigns it correctly to the list."
   ]
  },
  {
   "cell_type": "code",
   "execution_count": 78,
   "id": "6020ee0b",
   "metadata": {},
   "outputs": [],
   "source": [
    "def set_marker(playfield, marker, position):\n",
    "    \"\"\" Sets the marker in the playing field at the index position. \"\"\"\n",
    "\n",
    "    playfield[position] = marker"
   ]
  },
  {
   "cell_type": "code",
   "execution_count": 79,
   "id": "69e07076",
   "metadata": {},
   "outputs": [],
   "source": [
    "# Execute the set_marker function with test parameters and show the modified playing field."
   ]
  },
  {
   "cell_type": "code",
   "execution_count": 80,
   "id": "ec7ec987",
   "metadata": {},
   "outputs": [
    {
     "name": "stdout",
     "output_type": "stream",
     "text": [
      " X | $ | X\n",
      "-----------\n",
      " O | X | O\n",
      "-----------\n",
      " X | O | X\n"
     ]
    }
   ],
   "source": [
    "set_marker(test_playfield, '$', 8)\n",
    "show_playfield(test_playfield)"
   ]
  },
  {
   "cell_type": "code",
   "execution_count": 81,
   "id": "8ff86f13",
   "metadata": {},
   "outputs": [],
   "source": [
    "# Write a function that takes the board and a marker ('X' or 'O') and checks if that marker won."
   ]
  },
  {
   "cell_type": "code",
   "execution_count": 82,
   "id": "1bdbb670",
   "metadata": {},
   "outputs": [],
   "source": [
    "def win_check(playfield, marker):\n",
    "    \"\"\" Returns True if marker wins in the current tile. \"\"\"\n",
    "\n",
    "    return ((playfield[7] == marker and playfield[8] == marker and playfield[9] == marker) or # above\n",
    "            # middle\n",
    "            (playfield[4] == marker and playfield[5] == marker and playfield[6] == marker) or\n",
    "            # below\n",
    "            (playfield[1] == marker and playfield[2] == marker and playfield[3] == marker) or\n",
    "            # left side down\n",
    "            (playfield[7] == marker and playfield[4] == marker and playfield[1] == marker) or\n",
    "            # middle down\n",
    "            (playfield[8] == marker and playfield[5] == marker and playfield[2] == marker) or\n",
    "            # right side down\n",
    "            (playfield[9] == marker and playfield[6] == marker and playfield[3] == marker) or\n",
    "            # diagonally\n",
    "            (playfield[7] == marker and playfield[5] == marker and playfield[3] == marker) or\n",
    "            (playfield[9] == marker and playfield[5] == marker and playfield[1] == marker)) # diagonal"
   ]
  },
  {
   "cell_type": "code",
   "execution_count": 83,
   "id": "43defe08",
   "metadata": {},
   "outputs": [],
   "source": [
    "# Test the win_check function on our test_playfield - the result should be True (diagonal: X wins)."
   ]
  },
  {
   "cell_type": "code",
   "execution_count": 84,
   "id": "a034ac0f",
   "metadata": {},
   "outputs": [
    {
     "data": {
      "text/plain": [
       "True"
      ]
     },
     "execution_count": 84,
     "metadata": {},
     "output_type": "execute_result"
    }
   ],
   "source": [
    "win_check(test_playfield, 'X')"
   ]
  },
  {
   "cell_type": "code",
   "execution_count": 85,
   "id": "dfb964b7",
   "metadata": {},
   "outputs": [],
   "source": [
    "# Write a function that uses the random module to randomly decide which player gets to start."
   ]
  },
  {
   "cell_type": "code",
   "execution_count": 86,
   "id": "355dd10d",
   "metadata": {},
   "outputs": [],
   "source": [
    "import random\n",
    "\n",
    "\n",
    "def first_player():\n",
    "    \"\"\" Returns a String corresponding to a randomly selected player. \"\"\"\n",
    "    \n",
    "    if random.randint(0, 1) == 0:\n",
    "        return 'Player 1'\n",
    "    else:\n",
    "        return 'Player 2'"
   ]
  },
  {
   "cell_type": "code",
   "execution_count": 87,
   "id": "878d93f9",
   "metadata": {},
   "outputs": [],
   "source": [
    "# Write a function that checks if a position is free and returns a boolean value."
   ]
  },
  {
   "cell_type": "code",
   "execution_count": 88,
   "id": "61498921",
   "metadata": {},
   "outputs": [],
   "source": [
    "def place_check(playfield, position):\n",
    "    \"\"\" Checks whether the field at index position in the playing field is free\n",
    "    and returns a corresponding boolean value.\n",
    "    \"\"\"\n",
    "    \n",
    "    return playfield[position] == ' '"
   ]
  },
  {
   "cell_type": "code",
   "execution_count": 89,
   "id": "d175c0b4",
   "metadata": {},
   "outputs": [],
   "source": [
    "# Write a function that checks if the playing field is full. If so, it should return True."
   ]
  },
  {
   "cell_type": "code",
   "execution_count": 97,
   "id": "35c7e6ab",
   "metadata": {},
   "outputs": [],
   "source": [
    "def playfield_full(playfield):\n",
    "    \"\"\" Returns True if the playing field is full and False otherwise. \"\"\"\n",
    "    \n",
    "    for i in range(1, 10):\n",
    "        if place_check(playfield, i):\n",
    "            return False\n",
    "        \n",
    "    return True"
   ]
  },
  {
   "cell_type": "code",
   "execution_count": 98,
   "id": "c721e8c9",
   "metadata": {},
   "outputs": [],
   "source": [
    "# Write a function that asks the player for their next position (number 1-9). \n",
    "# Then the function from step 6 should be used to check whether it is still free. \n",
    "# If it is free, the position should be handed over for later use."
   ]
  },
  {
   "cell_type": "code",
   "execution_count": 99,
   "id": "a47681c9",
   "metadata": {},
   "outputs": [],
   "source": [
    "def player_choice(playfield):\n",
    "    \"\"\" Prompts player for next move, makes sure\n",
    "    that this position is still free and returns it.\n",
    "    \"\"\"\n",
    "    \n",
    "    position = 0\n",
    "\n",
    "    while position not in [1, 2, 3, 4, 5, 6, 7, 8, 9] or not place_check(playfield, int(position)):\n",
    "        position = int(input('Choose your next position: (1-9) '))\n",
    "\n",
    "    return position"
   ]
  },
  {
   "cell_type": "code",
   "execution_count": 100,
   "id": "809ed08f",
   "metadata": {},
   "outputs": [],
   "source": [
    "# Write a function that asks players if they want to play again. If so, True should be returned."
   ]
  },
  {
   "cell_type": "code",
   "execution_count": 101,
   "id": "7886a603",
   "metadata": {},
   "outputs": [],
   "source": [
    "def new_game():\n",
    "    \"\"\" Asks the players if they want another game and\n",
    "    returns a corresponding boolean value.\n",
    "    \"\"\"\n",
    "    \n",
    "    return input('Do you want to play again? Enter yes or no: ').lower().startswith('j')"
   ]
  },
  {
   "cell_type": "code",
   "execution_count": 102,
   "id": "c79ad096",
   "metadata": {},
   "outputs": [],
   "source": [
    "# Use while loops and the functions we've already implemented to run the game."
   ]
  },
  {
   "cell_type": "code",
   "execution_count": 103,
   "id": "18d3804c",
   "metadata": {},
   "outputs": [
    {
     "name": "stdout",
     "output_type": "stream",
     "text": [
      " X | O | X\n",
      "-----------\n",
      " X | O | O\n",
      "-----------\n",
      " O | O | X\n",
      "Congratulations! You won!\n",
      "Do you want to play again? Enter yes or no: n\n"
     ]
    }
   ],
   "source": [
    "print(\"Welcome to Tic Tac Toe!\")\n",
    "\n",
    "while True:\n",
    "    \n",
    "    # Reset the playing field\n",
    "    the_field = [' '] * 10\n",
    "    player1_marker, player2_marker = player_input()\n",
    "    move = first_player()\n",
    "    print(move + \" may start.\")\n",
    "\n",
    "    play = input('Are you ready to play? Enter yes or no.')\n",
    "\n",
    "    if play.lower()[0] == 'j':\n",
    "        game_running = True\n",
    "    else:\n",
    "        game_running = False\n",
    "\n",
    "    while game_running:\n",
    "        if move == \"Player 1\":\n",
    "            # Player 1's turn\n",
    "\n",
    "            show_playfield(the_field)\n",
    "            position = player_choice(the_field)\n",
    "            set_marker(the_field, player1_marker, position)\n",
    "\n",
    "            if win_check(the_field, player1_marker):\n",
    "                show_playfield(the_field)\n",
    "                print(\"Congratulations! You won!\")\n",
    "                game_running = False\n",
    "            else:\n",
    "                if playfield_full(the_field):\n",
    "                    show_playfield(the_field)\n",
    "                    print(\"This game is a draw!\")\n",
    "                    break\n",
    "                else:\n",
    "                    move = \"Player 2\"\n",
    "        else:\n",
    "            # Player 2's turn\n",
    "\n",
    "            show_playfield(the_field)\n",
    "            position = player_choice(the_field)\n",
    "            set_marker(the_field, player2_marker, position)\n",
    "\n",
    "            if win_check(the_field, player2_marker):\n",
    "                show_playfield(the_field)\n",
    "                print(\"Congratulations! You won!\")\n",
    "                game_running = False\n",
    "            else:\n",
    "                if playfield_full(the_field):\n",
    "                    show_playfield(the_field)\n",
    "                    print(\"This game is a draw!\")\n",
    "                    break\n",
    "                else:\n",
    "                    move = \"Player 1\"\n",
    "\n",
    "    if not new_game():\n",
    "        break"
   ]
  },
  {
   "cell_type": "code",
   "execution_count": null,
   "id": "490c394c",
   "metadata": {},
   "outputs": [],
   "source": []
  }
 ],
 "metadata": {
  "kernelspec": {
   "display_name": "Python 3 (ipykernel)",
   "language": "python",
   "name": "python3"
  },
  "language_info": {
   "codemirror_mode": {
    "name": "ipython",
    "version": 3
   },
   "file_extension": ".py",
   "mimetype": "text/x-python",
   "name": "python",
   "nbconvert_exporter": "python",
   "pygments_lexer": "ipython3",
   "version": "3.9.16"
  }
 },
 "nbformat": 4,
 "nbformat_minor": 5
}
